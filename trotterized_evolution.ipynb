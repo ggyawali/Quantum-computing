{
 "cells": [
  {
   "cell_type": "markdown",
   "metadata": {},
   "source": [
    "The Hamiltonian for the Ising model is given by:\n",
    "$$\n",
    "    \\mathcal{H}=J\\sum_{i=1}^{n} \\sigma_{i}^{x} \\sigma_{i+1}^{x}+ h\\sum_{i=1}^{n} \\sigma_{i}^{z}.\n",
    "$$\n",
    "i.e.\n",
    "$$\n",
    "    \\mathcal{H}= B + A. \n",
    "$$"
   ]
  },
  {
   "cell_type": "markdown",
   "metadata": {},
   "source": [
    "where $B = \\sum_{i=1}^{n} B_j$, $B_j = e^{-i(J\\sigma_{i}^{x}\\sigma_{i+1}^{x})\\Delta t}$ and $A =\\sum_{i=1}^{n} A_j$, $A_j = e^{-i(h \\sigma^z_i)\\Delta t}$"
   ]
  },
  {
   "cell_type": "markdown",
   "metadata": {},
   "source": [
    "We will use Trotter decomposition to simulate the time evolution of this Hamiltonian given by the operator $U = e^{-i\\mathcal{H}t}$. Since the operators A and B do not commute, we cannot exactly express the exponential of a sum as a product of the exponential. Using Baker-Campbell-Housdorff:\n",
    "$$\n",
    "e^{-i \\mathcal{H} t}=e^{-i A t} e^{-i B t}+\\mathcal{O}\\left(t^{2}\\right)\n",
    "$$\n"
   ]
  },
  {
   "cell_type": "markdown",
   "metadata": {},
   "source": [
    "Now, we discretize time and the evolution become a  product of discrete evolution operations: \n",
    "$$\n",
    "U(t) = \\underbrace{U(\\Delta t) \\cdots U(\\Delta t)}_{N \\, times}\n",
    "$$\n",
    "i.e. \n",
    "$$\n",
    "e^{-i\\mathcal{H}t} = (e^{-i\\mathcal{H} \\Delta t})^N\n",
    "$$\n",
    "where $\\Delta t$ = t/M and M is the number of Trotter steps. Since the Hamiltonian commutes with itself, this equation is exact. The time evolution operator for a discrete step can be written as:\n",
    "$$\n",
    "e^{-i \\mathcal{H} \\Delta t}=\\left(\\prod_{j} A_{j}\\right)\\left(\\prod_{j \\text { even }} B_{j}\\right)\\left(\\prod_{j o d d} B_{j}\\right)+\\mathcal{O}\\left((\\Delta t)^{2}\\right)\n",
    "$$"
   ]
  },
  {
   "cell_type": "markdown",
   "metadata": {},
   "source": [
    "If we want to evolve the system to time $t=M \\Delta t$, the error is $\\mathcal{O}\\left((\\Delta t)\\right)$, thus the error can be decreased by decreasing the size of the Trotter step. Such accuracy will come at a price of implementing a larger number of gates. By using higher order Suzuki-Trotter decomposition, more symmetric product of the exponentials can be obtained which will reduce the error further, we will continute with the basic Trotterization for simplicity."
   ]
  },
  {
   "cell_type": "markdown",
   "metadata": {},
   "source": [
    "$A_j$ is simply a rotation around z-axis whereas $B_j$ is a two-qubit unitary which can be implemented by using the following identity[3]:\n",
    "$$C X_{j, k} e^{-i \\sigma_{j}^{X} t} C X_{j, k}=e^{-i \\sigma_{j}^{X} \\sigma_{k}^{X} t}$$"
   ]
  },
  {
   "cell_type": "code",
   "execution_count": 4,
   "metadata": {},
   "outputs": [],
   "source": [
    "from qiskit import *\n",
    "import matplotlib.pyplot as plt\n",
    "\n",
    "#Circuit implementation of A_j which is rotation around z-axis by angle h.dt\n",
    "def A(qc, h, dt, j):\n",
    "    qc.rz(h*dt, j)\n",
    "\n",
    "#Circuit implementation of B_j based on the above identity    \n",
    "def B(qc, J, dt, j):\n",
    "    qc.cx(j,j+1)\n",
    "    qc.rx(J*dt,j)\n",
    "    qc.cx(j,j+1)    "
   ]
  },
  {
   "cell_type": "markdown",
   "metadata": {},
   "source": [
    "We will take n=4 and consider the time evolution of $| \\uparrow \\uparrow \\uparrow \\uparrow >$ state. In IBM Q, the initial state is always $| \\uparrow >$, so we don't need to do anything to the initialized qubit."
   ]
  },
  {
   "cell_type": "code",
   "execution_count": 127,
   "metadata": {},
   "outputs": [],
   "source": [
    "n = 4\n",
    "J = 1\n",
    "dt = 0.25\n",
    "t  = dt\n",
    "circuit = QuantumCircuit(n,n)\n",
    "for i in range(n):\n",
    "    A(circuit,h,dt,i)\n",
    "\n",
    "for i in range(int(n/2)):\n",
    "    B(circuit,J,dt,2*i)\n",
    "\n",
    "for i in range(int(n/2)-1):\n",
    "    B(circuit,J,dt,i+1)"
   ]
  },
  {
   "cell_type": "markdown",
   "metadata": {},
   "source": [
    "Lets visualize our quantum circuit to see if we are doing exactly what we want to do."
   ]
  },
  {
   "cell_type": "code",
   "execution_count": 8,
   "metadata": {},
   "outputs": [
    {
     "data": {
      "image/png": "[encoded data removed]",
      "text/plain": [
       "<Figure size 599.592x325.08 with 1 Axes>"
      ]
     },
     "execution_count": 8,
     "metadata": {},
     "output_type": "execute_result"
    }
   ],
   "source": [
    "circuit.draw(output='mpl')"
   ]
  },
  {
   "cell_type": "markdown",
   "metadata": {},
   "source": [
    "After simulating the time evolution, we want to plot the magnetization vs time, so we need a function to calculate the magnetization of the given state."
   ]
  },
  {
   "cell_type": "code",
   "execution_count": 13,
   "metadata": {},
   "outputs": [],
   "source": [
    "def mag(n):\n",
    "    num_str = str(n)\n",
    "    sum = 0\n",
    "    for i in range(0, len(num_str)):\n",
    "        sum += int(num_str[i])\n",
    "    return sum"
   ]
  },
  {
   "cell_type": "code",
   "execution_count": 131,
   "metadata": {},
   "outputs": [],
   "source": [
    "from qiskit.tools.visualization import plot_histogram\n",
    "simulator = Aer.get_backend('qasm_simulator')\n",
    "hlist=[0.5,0.9,1.8] \n",
    "magt_sim = [[] for _ in range(len(hlist))]\n",
    "shots= 1024\n",
    "def Circuit_t(n_steps,dt,h,J,n):\n",
    "    circuit = QuantumCircuit(n,n)\n",
    "    for i in range(n_steps):\n",
    "        for j in range(n):\n",
    "            A(circuit,h,dt,j)\n",
    "\n",
    "        for j in range(int(n/2)):\n",
    "            B(circuit,J,dt,2*j)\n",
    "\n",
    "        for j in range(int(n/2)-1):\n",
    "            B(circuit,J,dt,j+1)\n",
    "        \n",
    "        circuit.barrier()\n",
    "    circuit.measure(range(n),range(n))\n",
    "    return circuit\n",
    "        \n",
    "\n",
    "N = 50\n",
    "for j in range(len(hlist)):\n",
    "    h = hlist[j]\n",
    "    t_list = []\n",
    "    for i in range(N):    \n",
    "        t_list.append(i*dt)\n",
    "        ct = Circuit_t(i,dt,h,J,n)\n",
    "        result = execute(ct,backend=simulator,shots=shots).result()\n",
    "        res=result.get_counts()\n",
    "        r1=list(res.keys())\n",
    "        r2=list(res.values())\n",
    "        M=0\n",
    "        for k in range(0,len(r1)):\n",
    "            M=M+(n-2*mag(r1[k]))*r2[k]/shots\n",
    "        magt_sim[j].append(M/n)\n",
    "#plot_histogram(ct.get_counts())\n",
    "#print(ct.get_counts())"
   ]
  },
  {
   "cell_type": "markdown",
   "metadata": {},
   "source": [
    "Here's a plot of the time evolution for |↑↑↑↑> state."
   ]
  },
  {
   "cell_type": "code",
   "execution_count": 137,
   "metadata": {},
   "outputs": [
    {
     "data": {
      "image/png": "[encoded data removed]",
      "text/plain": [
       "<Figure size 432x288 with 1 Axes>"
      ]
     },
     "metadata": {
      "needs_background": "light"
     },
     "output_type": "display_data"
    }
   ],
   "source": [
    "plt.plot(t_list,magt_sim[0],\"*\",label='$h=0.5$')\n",
    "plt.plot(t_list,magt_sim[1],\"*\",label='$h=0.9$')\n",
    "plt.plot(t_list,magt_sim[2],\"*\",label='$h=1.8$')\n",
    "plt.xlabel('time')\n",
    "plt.ylabel('$<\\sigma_{z}>$')\n",
    "plt.legend()\n",
    "plt.title('Time evolution |↑↑↑↑> state')\n",
    "plt.show()"
   ]
  },
  {
   "cell_type": "markdown",
   "metadata": {},
   "source": [
    "## References\n",
    "1. Smith, A., Kim, M. S., Pollmann, F., & Knolle, J. Simulating quantum many-body dynamics on a current digital quantum computer. https://doi.org/10.1038/s41534-019-0217-0\n",
    "2. Hatano, N. & Suzuki, M. Finding exponential product formulas of higher orders. in Lect.Notes Phys 679,37–68 (2005)\n",
    "\n",
    "3. https://quantumcomputing.stackexchange.com/questions/6338/how-to-implement-the-xy-heisenberg-interaction-using-ibmq-and-qiskit?rq=1"
   ]
  }
 ],
 "metadata": {
  "kernelspec": {
   "display_name": "Python 3",
   "language": "python",
   "name": "python3"
  },
  "language_info": {
   "codemirror_mode": {
    "name": "ipython",
    "version": 3
   },
   "file_extension": ".py",
   "mimetype": "text/x-python",
   "name": "python",
   "nbconvert_exporter": "python",
   "pygments_lexer": "ipython3",
   "version": "3.7.3"
  }
 },
 "nbformat": 4,
 "nbformat_minor": 2
}
